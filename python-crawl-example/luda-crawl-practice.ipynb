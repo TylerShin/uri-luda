{
 "cells": [
  {
   "cell_type": "code",
   "execution_count": 1,
   "metadata": {},
   "outputs": [],
   "source": [
    "from bs4 import BeautifulSoup\n",
    "import requests\n",
    "import hashlib"
   ]
  },
  {
   "cell_type": "code",
   "execution_count": 2,
   "metadata": {},
   "outputs": [],
   "source": [
    "HEADERS = {'user-agent': 'Mozilla/5.0 (Windows NT 10.0; Win64; x64) AppleWebKit/537.36 (KHTML, like Gecko) Chrome/67.0.3396.99 Safari/537.36'}"
   ]
  },
  {
   "cell_type": "code",
   "execution_count": 5,
   "metadata": {},
   "outputs": [],
   "source": [
    "def save_image(url):\n",
    "    res = requests.get(url, headers=HEADERS)\n",
    "    soup = BeautifulSoup(res.text, 'html.parser')\n",
    "    \n",
    "    article_content = soup.find('div', id='dgn_gallery_detail')\n",
    "    imgs = article_content.find_all('img')\n",
    "    filtered_imgs = list(map(lambda x: x.get('src'), filter(lambda x: x.get('onclick'), imgs)))[1:] # 첫번째꺼 이상한거라 제외\n",
    "    \n",
    "    for link in filtered_imgs:\n",
    "        filename = hashlib.sha3_224(str(link).encode('utf-8')).hexdigest()[:6] + '.png'\n",
    "        print('[!]  Downloading... - {0}'.format(link))\n",
    "        fp = open(filename, 'wb')\n",
    "        data = requests.get(link)\n",
    "        fp.write(data.content)\n",
    "        fp.close()\n",
    "        print('[+] {0} Saved!'.format(filename))\n"
   ]
  },
  {
   "cell_type": "code",
   "execution_count": 4,
   "metadata": {},
   "outputs": [
    {
     "name": "stdout",
     "output_type": "stream",
     "text": [
      "[!] http://dcimg7.dcinside.co.kr/viewimage.php?id=21a8d427&no=24b0d769e1d32ca73cef83fa11d02831a8a78790708c2166b82f7ce95d9a30b72f86b7df8e029222d1247151d54dd9b214817c111e2b9ff4cc40963346c4fb950522a3099f0bf6db5256728b78a99e3381 Downloading...\n",
      "[+] 52c1e8.png Saved!\n",
      "[!] http://dcimg7.dcinside.co.kr/viewimage.php?id=21a8d427&no=24b0d769e1d32ca73cef83fa11d02831a8a78790708c2166b82f7ce95d9a30b72f86b7df8e029222d1247151d54dd9b214812f421e7fcffcc940963346c4fb9551cccbba230d2a0b12dad3c16d146a6553 Downloading...\n",
      "[+] 725b41.png Saved!\n",
      "[!] http://dcimg7.dcinside.co.kr/viewimage.php?id=21a8d427&no=24b0d769e1d32ca73cef83fa11d02831a8a78790708c2166b82f7ce95d9a30b72f86b7df8e029222d1247151d54dd9b2148779154d2dc9f4ce40963346c4fb95adb8ef1c47d3864dd6e3a565560cdb2229 Downloading...\n",
      "[+] 975dc1.png Saved!\n",
      "[!] http://dcimg7.dcinside.co.kr/viewimage.php?id=21a8d427&no=24b0d769e1d32ca73cef83fa11d02831a8a78790708c2166b82f7ce95d9a30b72f86b7df8e029222d1247151d54dd9b214da7f111f2dcaf0c740963346c4fb95eec3f5591ecc63f561d2decec6eed0481c Downloading...\n",
      "[+] 170ef4.png Saved!\n"
     ]
    }
   ],
   "source": [
    "save_image('http://gall.dcinside.com/mgallery/board/view/?id=luda&no=19865&page=1&exception_mode=recommend')"
   ]
  }
 ],
 "metadata": {
  "kernelspec": {
   "display_name": "Python 3",
   "language": "python",
   "name": "python3"
  },
  "language_info": {
   "codemirror_mode": {
    "name": "ipython",
    "version": 3
   },
   "file_extension": ".py",
   "mimetype": "text/x-python",
   "name": "python",
   "nbconvert_exporter": "python",
   "pygments_lexer": "ipython3",
   "version": "3.6.4"
  }
 },
 "nbformat": 4,
 "nbformat_minor": 2
}
